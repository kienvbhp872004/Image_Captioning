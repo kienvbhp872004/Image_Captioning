{
 "cells": [
  {
   "cell_type": "code",
   "id": "initial_id",
   "metadata": {
    "collapsed": true,
    "ExecuteTime": {
     "end_time": "2025-04-22T14:44:39.943095Z",
     "start_time": "2025-04-22T14:44:15.685853Z"
    }
   },
   "source": [
    "import os\n",
    "import torch\n",
    "from torch.utils.data import Dataset, DataLoader\n",
    "from PIL import Image\n",
    "import pandas as pd\n",
    "from torchvision import transforms\n",
    "from vocab import Vocabulary\n",
    "import nltk\n",
    "nltk.data.path = ['C:\\\\Users\\\\admin\\\\nltk_data']\n",
    "\n",
    "class FlickrDataset(Dataset):\n",
    "    def __init__(self, root_dir, captions_file, transform=None, freq_threshold=3):\n",
    "        self.root_dir = root_dir\n",
    "        self.df = pd.read_csv(captions_file)\n",
    "        self.transform = transform\n",
    "        self.freq_threshold = freq_threshold\n",
    "\n",
    "        # Lưu danh sách ảnh và caption\n",
    "        self.imgs = self.df[\"image\"]\n",
    "        self.captions = self.df[\"caption\"]\n",
    "\n",
    "        # Build vocabulary\n",
    "        self.vocab = Vocabulary(freq_threshold)\n",
    "        self.vocab.build_vocab(self.df[\"caption\"])\n",
    "\n",
    "    def __len__(self):\n",
    "        return len(self.df)\n",
    "\n",
    "    def __getitem__(self, idx):\n",
    "        # Load ảnh khi cần\n",
    "        img_path = os.path.join(self.root_dir, self.imgs[idx])\n",
    "        image = Image.open(img_path).convert(\"RGB\")\n",
    "        if self.transform is not None:\n",
    "            image = self.transform(image)\n",
    "\n",
    "        caption = self.captions[idx]\n",
    "        numericalized = [self.vocab.stoi[\"<START>\"]]\n",
    "        numericalized += self.vocab.numericalize(caption)\n",
    "        numericalized.append(self.vocab.stoi[\"<END>\"])\n",
    "\n",
    "        return image, torch.tensor(numericalized)\n"
   ],
   "outputs": [
    {
     "name": "stderr",
     "output_type": "stream",
     "text": [
      "[nltk_data] Downloading package punkt to C:\\Users\\admin/nltk_data...\n",
      "[nltk_data]   Package punkt is already up-to-date!\n",
      "[nltk_data] Downloading package punkt to C:\\Users\\admin/nltk_data...\n",
      "[nltk_data]   Package punkt is already up-to-date!\n",
      "[nltk_data] Downloading package punkt to C:\\Users\\admin/nltk_data...\n",
      "[nltk_data]   Package punkt is already up-to-date!\n",
      "[nltk_data] Downloading package punkt_tab to\n",
      "[nltk_data]     C:\\Users\\admin/nltk_data...\n",
      "[nltk_data]   Package punkt_tab is already up-to-date!\n"
     ]
    }
   ],
   "execution_count": 1
  },
  {
   "metadata": {
    "ExecuteTime": {
     "end_time": "2025-04-22T14:44:40.730360Z",
     "start_time": "2025-04-22T14:44:40.724709Z"
    }
   },
   "cell_type": "code",
   "source": "transforms = transforms.Compose([transforms.ToTensor()])",
   "id": "2a4559c71af9ab4e",
   "outputs": [],
   "execution_count": 2
  },
  {
   "metadata": {
    "ExecuteTime": {
     "end_time": "2025-04-22T14:44:45.134333Z",
     "start_time": "2025-04-22T14:44:40.738504Z"
    }
   },
   "cell_type": "code",
   "source": "data = FlickrDataset(r'D:\\git\\Image_Captioning\\dataset\\Images',r'D:\\git\\Image_Captioning\\dataset\\captions.txt',transforms)",
   "id": "eb9bb6c42f4d2a04",
   "outputs": [],
   "execution_count": 3
  },
  {
   "metadata": {
    "ExecuteTime": {
     "end_time": "2025-04-22T14:45:08.341297Z",
     "start_time": "2025-04-22T14:45:08.107178Z"
    }
   },
   "cell_type": "code",
   "source": "data[0]",
   "id": "5892c1cc122a6afc",
   "outputs": [
    {
     "data": {
      "text/plain": [
       "(tensor([[[0.2275, 0.4510, 0.4157,  ..., 0.0157, 0.0157, 0.0235],\n",
       "          [0.2196, 0.4510, 0.4157,  ..., 0.0196, 0.0471, 0.0118],\n",
       "          [0.2039, 0.4510, 0.4235,  ..., 0.0392, 0.0275, 0.0078],\n",
       "          ...,\n",
       "          [0.7569, 0.8667, 0.9529,  ..., 0.6667, 0.6627, 0.6588],\n",
       "          [0.7333, 0.9882, 1.0000,  ..., 0.6667, 0.6627, 0.6667],\n",
       "          [0.7843, 0.7804, 0.6510,  ..., 0.6667, 0.6549, 0.6627]],\n",
       " \n",
       "         [[0.2196, 0.5137, 0.4824,  ..., 0.0157, 0.0157, 0.0235],\n",
       "          [0.2157, 0.5176, 0.4824,  ..., 0.0196, 0.0667, 0.0314],\n",
       "          [0.2000, 0.5098, 0.4902,  ..., 0.0431, 0.0353, 0.0157],\n",
       "          ...,\n",
       "          [0.3059, 0.6039, 0.9569,  ..., 0.7255, 0.7216, 0.7255],\n",
       "          [0.3451, 0.9373, 0.7686,  ..., 0.7294, 0.7216, 0.7216],\n",
       "          [0.3922, 0.4157, 0.2588,  ..., 0.7294, 0.7216, 0.7176]],\n",
       " \n",
       "         [[0.3020, 0.5098, 0.4588,  ..., 0.0078, 0.0078, 0.0157],\n",
       "          [0.2863, 0.4941, 0.4588,  ..., 0.0196, 0.0510, 0.0078],\n",
       "          [0.2706, 0.4824, 0.4667,  ..., 0.0235, 0.0235, 0.0118],\n",
       "          ...,\n",
       "          [0.0431, 0.1608, 0.4549,  ..., 0.8000, 0.8039, 0.7569],\n",
       "          [0.1216, 0.5373, 0.3882,  ..., 0.7922, 0.7961, 0.7569],\n",
       "          [0.0980, 0.1020, 0.0235,  ..., 0.7882, 0.7843, 0.7529]]]),\n",
       " tensor([ 1,  4,  5,  6,  4,  7,  8,  9, 10, 11,  4, 12, 13, 14,  6, 15,  3, 16,\n",
       "         17,  2]))"
      ]
     },
     "execution_count": 5,
     "metadata": {},
     "output_type": "execute_result"
    }
   ],
   "execution_count": 5
  },
  {
   "metadata": {},
   "cell_type": "code",
   "outputs": [],
   "execution_count": null,
   "source": "",
   "id": "efc4369568cd8d5c"
  }
 ],
 "metadata": {
  "kernelspec": {
   "display_name": "Python 3",
   "language": "python",
   "name": "python3"
  },
  "language_info": {
   "codemirror_mode": {
    "name": "ipython",
    "version": 2
   },
   "file_extension": ".py",
   "mimetype": "text/x-python",
   "name": "python",
   "nbconvert_exporter": "python",
   "pygments_lexer": "ipython2",
   "version": "2.7.6"
  }
 },
 "nbformat": 4,
 "nbformat_minor": 5
}
